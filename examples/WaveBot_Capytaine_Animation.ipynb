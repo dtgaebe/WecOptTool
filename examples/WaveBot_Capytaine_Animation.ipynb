{
 "cells": [
  {
   "cell_type": "code",
   "execution_count": 6,
   "metadata": {},
   "outputs": [],
   "source": [
    "import capytaine as cpt\n",
    "from capytaine.bem.airy_waves import airy_waves_free_surface_elevation\n",
    "from capytaine.ui.vtk.animation import Animation\n",
    "from capytaine.io.meshio import load_from_meshio\n",
    "\n",
    "import wecopttool as wot\n"
   ]
  },
  {
   "cell_type": "code",
   "execution_count": null,
   "metadata": {},
   "outputs": [],
   "source": [
    "\n",
    "cpt.set_logging('INFO')\n",
    "\n",
    "# Generate the mesh of a sphere\n",
    "\n",
    "full_mesh = cpt.mesh_fb(radius=3, center=(0, 0, 0), resolution=(20, 20))\n",
    "full_sphere = cpt.FloatingBody(mesh=full_mesh)\n",
    "full_sphere.add_translation_dof(name=\"Heave\")\n",
    "\n",
    "# Keep only the immersed part of the mesh\n",
    "sphere = full_sphere.immersed_part()\n",
    "\n",
    "# Set up and solve problem\n",
    "solver = cpt.BEMSolver()\n",
    "\n",
    "diffraction_problem = cpt.DiffractionProblem(body=sphere, wave_direction=0.0, omega=2.0)\n",
    "diffraction_result = solver.solve(diffraction_problem)\n",
    "\n",
    "radiation_problem = cpt.RadiationProblem(body=sphere, radiating_dof=\"Heave\", omega=2.0)\n",
    "radiation_result = solver.solve(radiation_problem)\n",
    "\n",
    "# Define a mesh of the free surface and compute the free surface elevation\n",
    "free_surface = cpt.FreeSurface(x_range=(-50, 50), y_range=(-50, 50), nx=150, ny=150)\n",
    "diffraction_elevation_at_faces = solver.compute_free_surface_elevation(free_surface, diffraction_result)\n",
    "radiation_elevation_at_faces = solver.compute_free_surface_elevation(free_surface, radiation_result)\n",
    "\n",
    "# Add incoming waves\n",
    "diffraction_elevation_at_faces = diffraction_elevation_at_faces + airy_waves_free_surface_elevation(free_surface, diffraction_problem)\n",
    "\n",
    "# Run the animations\n",
    "animation = Animation(loop_duration=diffraction_result.period)\n",
    "animation.add_body(full_sphere, faces_motion=None)\n",
    "animation.add_free_surface(free_surface, faces_elevation=0.5*diffraction_elevation_at_faces)\n",
    "animation.run(camera_position=(-30, -30, 30))  # The camera is oriented towards (0, 0, 0) by default.\n",
    "# animation.save(\"path/to/the/video/file.ogv\", camera_position=(-30, -30, 30))\n",
    "\n",
    "animation = Animation(loop_duration=radiation_result.period)\n",
    "animation.add_body(full_sphere, faces_motion=full_sphere.dofs[\"Heave\"])\n",
    "animation.add_free_surface(free_surface, faces_elevation=3.0*radiation_elevation_at_faces)\n",
    "animation.run(camera_position=(-30, -30, 30))\n",
    "# animation.save(\"path/to/the/video/file.ogv\", camera_position=(-30, -30, 30))"
   ]
  },
  {
   "cell_type": "code",
   "execution_count": 11,
   "metadata": {},
   "outputs": [
    {
     "name": "stderr",
     "output_type": "stream",
     "text": [
      "INFO:capytaine.io.meshio:Stored 1042 triangle faces as quadrilaterals\n"
     ]
    },
    {
     "data": {
      "text/html": [
       "<pre style=\"white-space:pre;overflow-x:auto;line-height:normal;font-family:Menlo,'DejaVu Sans Mono',consolas,'Courier New',monospace\"><span style=\"color: #7fbfbf; text-decoration-color: #7fbfbf\">[16:34:57] </span><span style=\"color: #000080; text-decoration-color: #000080\">INFO    </span> Stored <span style=\"color: #008080; text-decoration-color: #008080; font-weight: bold\">1042</span> triangle faces as quadrilaterals                                                   \n",
       "</pre>\n"
      ],
      "text/plain": [
       "\u001b[2;36m[16:34:57]\u001b[0m\u001b[2;36m \u001b[0m\u001b[34mINFO    \u001b[0m Stored \u001b[1;36m1042\u001b[0m triangle faces as quadrilaterals                                                   \n"
      ]
     },
     "metadata": {},
     "output_type": "display_data"
    },
    {
     "name": "stderr",
     "output_type": "stream",
     "text": [
      "INFO:capytaine.bodies.bodies:New floating body: FloatingBody(mesh=Mesh(..., name=\"WaveBot\"), lid_mesh=Mesh(..., name=\"lid for WaveBot\"), dofs={}, name=\"WaveBot\").\n"
     ]
    },
    {
     "data": {
      "text/html": [
       "<pre style=\"white-space:pre;overflow-x:auto;line-height:normal;font-family:Menlo,'DejaVu Sans Mono',consolas,'Courier New',monospace\"><span style=\"color: #7fbfbf; text-decoration-color: #7fbfbf\">[16:34:58] </span><span style=\"color: #000080; text-decoration-color: #000080\">INFO    </span> New floating body: <span style=\"color: #800080; text-decoration-color: #800080; font-weight: bold\">FloatingBody</span><span style=\"font-weight: bold\">(</span><span style=\"color: #808000; text-decoration-color: #808000\">mesh</span>=<span style=\"color: #800080; text-decoration-color: #800080; font-weight: bold\">Mesh</span><span style=\"font-weight: bold\">(</span><span style=\"color: #808000; text-decoration-color: #808000\">...</span>, <span style=\"color: #808000; text-decoration-color: #808000\">name</span>=<span style=\"color: #008000; text-decoration-color: #008000\">\"WaveBot\"</span><span style=\"font-weight: bold\">)</span>, <span style=\"color: #808000; text-decoration-color: #808000\">lid_mesh</span>=<span style=\"color: #800080; text-decoration-color: #800080; font-weight: bold\">Mesh</span><span style=\"font-weight: bold\">(</span><span style=\"color: #808000; text-decoration-color: #808000\">...</span>, <span style=\"color: #808000; text-decoration-color: #808000\">name</span>=<span style=\"color: #008000; text-decoration-color: #008000\">\"lid </span>  \n",
       "<span style=\"color: #7fbfbf; text-decoration-color: #7fbfbf\">           </span>         <span style=\"color: #008000; text-decoration-color: #008000\">for WaveBot\"</span><span style=\"font-weight: bold\">)</span>, <span style=\"color: #808000; text-decoration-color: #808000\">dofs</span>=<span style=\"font-weight: bold\">{}</span>, <span style=\"color: #808000; text-decoration-color: #808000\">name</span>=<span style=\"color: #008000; text-decoration-color: #008000\">\"WaveBot\"</span><span style=\"font-weight: bold\">)</span>.                                                       \n",
       "</pre>\n"
      ],
      "text/plain": [
       "\u001b[2;36m[16:34:58]\u001b[0m\u001b[2;36m \u001b[0m\u001b[34mINFO    \u001b[0m New floating body: \u001b[1;35mFloatingBody\u001b[0m\u001b[1m(\u001b[0m\u001b[33mmesh\u001b[0m=\u001b[1;35mMesh\u001b[0m\u001b[1m(\u001b[0m\u001b[33m...\u001b[0m, \u001b[33mname\u001b[0m=\u001b[32m\"WaveBot\"\u001b[0m\u001b[1m)\u001b[0m, \u001b[33mlid_mesh\u001b[0m=\u001b[1;35mMesh\u001b[0m\u001b[1m(\u001b[0m\u001b[33m...\u001b[0m, \u001b[33mname\u001b[0m=\u001b[32m\"lid\u001b[0m\u001b[32m \u001b[0m  \n",
       "\u001b[2;36m           \u001b[0m         \u001b[32mfor WaveBot\"\u001b[0m\u001b[1m)\u001b[0m, \u001b[33mdofs\u001b[0m=\u001b[1m{\u001b[0m\u001b[1m}\u001b[0m, \u001b[33mname\u001b[0m=\u001b[32m\"WaveBot\"\u001b[0m\u001b[1m)\u001b[0m.                                                       \n"
      ]
     },
     "metadata": {},
     "output_type": "display_data"
    },
    {
     "name": "stderr",
     "output_type": "stream",
     "text": [
      "INFO:capytaine.bodies.bodies:Clipping WaveBot with respect to Plane(normal=[0. 0. 1.], point=[0. 0. 0.])\n"
     ]
    },
    {
     "data": {
      "text/html": [
       "<pre style=\"white-space:pre;overflow-x:auto;line-height:normal;font-family:Menlo,'DejaVu Sans Mono',consolas,'Courier New',monospace\"><span style=\"color: #7fbfbf; text-decoration-color: #7fbfbf\">           </span><span style=\"color: #000080; text-decoration-color: #000080\">INFO    </span> Clipping WaveBot with respect to <span style=\"color: #800080; text-decoration-color: #800080; font-weight: bold\">Plane</span><span style=\"font-weight: bold\">(</span><span style=\"color: #808000; text-decoration-color: #808000\">normal</span>=<span style=\"font-weight: bold\">[</span><span style=\"color: #008080; text-decoration-color: #008080; font-weight: bold\">0</span>. <span style=\"color: #008080; text-decoration-color: #008080; font-weight: bold\">0</span>. <span style=\"color: #008080; text-decoration-color: #008080; font-weight: bold\">1</span>.<span style=\"font-weight: bold\">]</span>, <span style=\"color: #808000; text-decoration-color: #808000\">point</span>=<span style=\"font-weight: bold\">[</span><span style=\"color: #008080; text-decoration-color: #008080; font-weight: bold\">0</span>. <span style=\"color: #008080; text-decoration-color: #008080; font-weight: bold\">0</span>. <span style=\"color: #008080; text-decoration-color: #008080; font-weight: bold\">0</span>.<span style=\"font-weight: bold\">])</span>                    \n",
       "</pre>\n"
      ],
      "text/plain": [
       "\u001b[2;36m          \u001b[0m\u001b[2;36m \u001b[0m\u001b[34mINFO    \u001b[0m Clipping WaveBot with respect to \u001b[1;35mPlane\u001b[0m\u001b[1m(\u001b[0m\u001b[33mnormal\u001b[0m=\u001b[1m[\u001b[0m\u001b[1;36m0\u001b[0m. \u001b[1;36m0\u001b[0m. \u001b[1;36m1\u001b[0m.\u001b[1m]\u001b[0m, \u001b[33mpoint\u001b[0m=\u001b[1m[\u001b[0m\u001b[1;36m0\u001b[0m. \u001b[1;36m0\u001b[0m. \u001b[1;36m0\u001b[0m.\u001b[1m]\u001b[0m\u001b[1m)\u001b[0m                    \n"
      ]
     },
     "metadata": {},
     "output_type": "display_data"
    },
    {
     "name": "stderr",
     "output_type": "stream",
     "text": [
      "INFO:capytaine.meshes.clipper:Clipping lid for WaveBot by Plane(normal=[0. 0. 1.], point=[0. 0. 0.]): no action.\n"
     ]
    },
    {
     "data": {
      "text/html": [
       "<pre style=\"white-space:pre;overflow-x:auto;line-height:normal;font-family:Menlo,'DejaVu Sans Mono',consolas,'Courier New',monospace\"><span style=\"color: #7fbfbf; text-decoration-color: #7fbfbf\">           </span><span style=\"color: #000080; text-decoration-color: #000080\">INFO    </span> Clipping lid for WaveBot by <span style=\"color: #800080; text-decoration-color: #800080; font-weight: bold\">Plane</span><span style=\"font-weight: bold\">(</span><span style=\"color: #808000; text-decoration-color: #808000\">normal</span>=<span style=\"font-weight: bold\">[</span><span style=\"color: #008080; text-decoration-color: #008080; font-weight: bold\">0</span>. <span style=\"color: #008080; text-decoration-color: #008080; font-weight: bold\">0</span>. <span style=\"color: #008080; text-decoration-color: #008080; font-weight: bold\">1</span>.<span style=\"font-weight: bold\">]</span>, <span style=\"color: #808000; text-decoration-color: #808000\">point</span>=<span style=\"font-weight: bold\">[</span><span style=\"color: #008080; text-decoration-color: #008080; font-weight: bold\">0</span>. <span style=\"color: #008080; text-decoration-color: #008080; font-weight: bold\">0</span>. <span style=\"color: #008080; text-decoration-color: #008080; font-weight: bold\">0</span>.<span style=\"font-weight: bold\">])</span>: no action.             \n",
       "</pre>\n"
      ],
      "text/plain": [
       "\u001b[2;36m          \u001b[0m\u001b[2;36m \u001b[0m\u001b[34mINFO    \u001b[0m Clipping lid for WaveBot by \u001b[1;35mPlane\u001b[0m\u001b[1m(\u001b[0m\u001b[33mnormal\u001b[0m=\u001b[1m[\u001b[0m\u001b[1;36m0\u001b[0m. \u001b[1;36m0\u001b[0m. \u001b[1;36m1\u001b[0m.\u001b[1m]\u001b[0m, \u001b[33mpoint\u001b[0m=\u001b[1m[\u001b[0m\u001b[1;36m0\u001b[0m. \u001b[1;36m0\u001b[0m. \u001b[1;36m0\u001b[0m.\u001b[1m]\u001b[0m\u001b[1m)\u001b[0m: no action.             \n"
      ]
     },
     "metadata": {},
     "output_type": "display_data"
    }
   ],
   "source": [
    "wb = wot.geom.WaveBot()  # use standard dimensions\n",
    "mesh_size_factor = 0.5 # 1.0 for default, smaller to refine mesh\n",
    "mesh = wb.mesh(mesh_size_factor)\n",
    "\n",
    "# create mesh object for WaveBot and add internal lid\n",
    "mesh_obj = load_from_meshio(mesh, 'WaveBot')\n",
    "lid_mesh = mesh_obj.generate_lid(-2e-2)\n",
    "full_fb = cpt.FloatingBody(mesh=mesh_obj, lid_mesh=lid_mesh, name=\"WaveBot\")\n",
    "full_fb.add_translation_dof(name=\"Heave\")\n",
    "\n",
    "fb = full_fb.immersed_part()\n",
    "\n"
   ]
  },
  {
   "cell_type": "code",
   "execution_count": 12,
   "metadata": {},
   "outputs": [
    {
     "name": "stderr",
     "output_type": "stream",
     "text": [
      "INFO:capytaine.bem.solver:Solve DiffractionProblem(body=FloatingBody(..., name=\"WaveBot\"), omega=2.000, water_depth=inf, wave_direction=0.000).\n"
     ]
    },
    {
     "data": {
      "text/html": [
       "<pre style=\"white-space:pre;overflow-x:auto;line-height:normal;font-family:Menlo,'DejaVu Sans Mono',consolas,'Courier New',monospace\"><span style=\"color: #7fbfbf; text-decoration-color: #7fbfbf\">           </span><span style=\"color: #000080; text-decoration-color: #000080\">INFO    </span> Solve <span style=\"color: #800080; text-decoration-color: #800080; font-weight: bold\">DiffractionProblem</span><span style=\"font-weight: bold\">(</span><span style=\"color: #808000; text-decoration-color: #808000\">body</span>=<span style=\"color: #800080; text-decoration-color: #800080; font-weight: bold\">FloatingBody</span><span style=\"font-weight: bold\">(</span><span style=\"color: #808000; text-decoration-color: #808000\">...</span>, <span style=\"color: #808000; text-decoration-color: #808000\">name</span>=<span style=\"color: #008000; text-decoration-color: #008000\">\"WaveBot\"</span><span style=\"font-weight: bold\">)</span>, <span style=\"color: #808000; text-decoration-color: #808000\">omega</span>=<span style=\"color: #008080; text-decoration-color: #008080; font-weight: bold\">2.000</span>, <span style=\"color: #808000; text-decoration-color: #808000\">water_depth</span>=<span style=\"color: #800080; text-decoration-color: #800080\">inf</span>, \n",
       "<span style=\"color: #7fbfbf; text-decoration-color: #7fbfbf\">           </span>         <span style=\"color: #808000; text-decoration-color: #808000\">wave_direction</span>=<span style=\"color: #008080; text-decoration-color: #008080; font-weight: bold\">0.000</span><span style=\"font-weight: bold\">)</span>.                                                                         \n",
       "</pre>\n"
      ],
      "text/plain": [
       "\u001b[2;36m          \u001b[0m\u001b[2;36m \u001b[0m\u001b[34mINFO    \u001b[0m Solve \u001b[1;35mDiffractionProblem\u001b[0m\u001b[1m(\u001b[0m\u001b[33mbody\u001b[0m=\u001b[1;35mFloatingBody\u001b[0m\u001b[1m(\u001b[0m\u001b[33m...\u001b[0m, \u001b[33mname\u001b[0m=\u001b[32m\"WaveBot\"\u001b[0m\u001b[1m)\u001b[0m, \u001b[33momega\u001b[0m=\u001b[1;36m2\u001b[0m\u001b[1;36m.000\u001b[0m, \u001b[33mwater_depth\u001b[0m=\u001b[35minf\u001b[0m, \n",
       "\u001b[2;36m           \u001b[0m         \u001b[33mwave_direction\u001b[0m=\u001b[1;36m0\u001b[0m\u001b[1;36m.000\u001b[0m\u001b[1m)\u001b[0m.                                                                         \n"
      ]
     },
     "metadata": {},
     "output_type": "display_data"
    },
    {
     "name": "stderr",
     "output_type": "stream",
     "text": [
      "INFO:capytaine.bem.solver:Solve RadiationProblem(body=FloatingBody(..., name=\"WaveBot\"), omega=2.000, water_depth=inf, radiating_dof='Heave').\n"
     ]
    },
    {
     "data": {
      "text/html": [
       "<pre style=\"white-space:pre;overflow-x:auto;line-height:normal;font-family:Menlo,'DejaVu Sans Mono',consolas,'Courier New',monospace\"><span style=\"color: #7fbfbf; text-decoration-color: #7fbfbf\">           </span><span style=\"color: #000080; text-decoration-color: #000080\">INFO    </span> Solve <span style=\"color: #800080; text-decoration-color: #800080; font-weight: bold\">RadiationProblem</span><span style=\"font-weight: bold\">(</span><span style=\"color: #808000; text-decoration-color: #808000\">body</span>=<span style=\"color: #800080; text-decoration-color: #800080; font-weight: bold\">FloatingBody</span><span style=\"font-weight: bold\">(</span><span style=\"color: #808000; text-decoration-color: #808000\">...</span>, <span style=\"color: #808000; text-decoration-color: #808000\">name</span>=<span style=\"color: #008000; text-decoration-color: #008000\">\"WaveBot\"</span><span style=\"font-weight: bold\">)</span>, <span style=\"color: #808000; text-decoration-color: #808000\">omega</span>=<span style=\"color: #008080; text-decoration-color: #008080; font-weight: bold\">2.000</span>, <span style=\"color: #808000; text-decoration-color: #808000\">water_depth</span>=<span style=\"color: #800080; text-decoration-color: #800080\">inf</span>,   \n",
       "<span style=\"color: #7fbfbf; text-decoration-color: #7fbfbf\">           </span>         <span style=\"color: #808000; text-decoration-color: #808000\">radiating_dof</span>=<span style=\"color: #008000; text-decoration-color: #008000\">'Heave'</span><span style=\"font-weight: bold\">)</span>.                                                                        \n",
       "</pre>\n"
      ],
      "text/plain": [
       "\u001b[2;36m          \u001b[0m\u001b[2;36m \u001b[0m\u001b[34mINFO    \u001b[0m Solve \u001b[1;35mRadiationProblem\u001b[0m\u001b[1m(\u001b[0m\u001b[33mbody\u001b[0m=\u001b[1;35mFloatingBody\u001b[0m\u001b[1m(\u001b[0m\u001b[33m...\u001b[0m, \u001b[33mname\u001b[0m=\u001b[32m\"WaveBot\"\u001b[0m\u001b[1m)\u001b[0m, \u001b[33momega\u001b[0m=\u001b[1;36m2\u001b[0m\u001b[1;36m.000\u001b[0m, \u001b[33mwater_depth\u001b[0m=\u001b[35minf\u001b[0m,   \n",
       "\u001b[2;36m           \u001b[0m         \u001b[33mradiating_dof\u001b[0m=\u001b[32m'Heave'\u001b[0m\u001b[1m)\u001b[0m.                                                                        \n"
      ]
     },
     "metadata": {},
     "output_type": "display_data"
    },
    {
     "name": "stderr",
     "output_type": "stream",
     "text": [
      "INFO:capytaine.ui.vtk.animation:Precompute motions of free_surface_56_mesh before animation.\n"
     ]
    },
    {
     "data": {
      "text/html": [
       "<pre style=\"white-space:pre;overflow-x:auto;line-height:normal;font-family:Menlo,'DejaVu Sans Mono',consolas,'Courier New',monospace\"><span style=\"color: #7fbfbf; text-decoration-color: #7fbfbf\">[16:36:30] </span><span style=\"color: #000080; text-decoration-color: #000080\">INFO    </span> Precompute motions of free_surface_56_mesh before animation.                                   \n",
       "</pre>\n"
      ],
      "text/plain": [
       "\u001b[2;36m[16:36:30]\u001b[0m\u001b[2;36m \u001b[0m\u001b[34mINFO    \u001b[0m Precompute motions of free_surface_56_mesh before animation.                                   \n"
      ]
     },
     "metadata": {},
     "output_type": "display_data"
    },
    {
     "name": "stderr",
     "output_type": "stream",
     "text": [
      "INFO:capytaine.ui.vtk.animation:Precompute motions of WaveBot before animation.\n"
     ]
    },
    {
     "data": {
      "text/html": [
       "<pre style=\"white-space:pre;overflow-x:auto;line-height:normal;font-family:Menlo,'DejaVu Sans Mono',consolas,'Courier New',monospace\"><span style=\"color: #7fbfbf; text-decoration-color: #7fbfbf\">[16:36:58] </span><span style=\"color: #000080; text-decoration-color: #000080\">INFO    </span> Precompute motions of WaveBot before animation.                                                \n",
       "</pre>\n"
      ],
      "text/plain": [
       "\u001b[2;36m[16:36:58]\u001b[0m\u001b[2;36m \u001b[0m\u001b[34mINFO    \u001b[0m Precompute motions of WaveBot before animation.                                                \n"
      ]
     },
     "metadata": {},
     "output_type": "display_data"
    },
    {
     "name": "stderr",
     "output_type": "stream",
     "text": [
      "INFO:capytaine.ui.vtk.animation:Precompute motions of free_surface_56_mesh before animation.\n"
     ]
    },
    {
     "data": {
      "text/html": [
       "<pre style=\"white-space:pre;overflow-x:auto;line-height:normal;font-family:Menlo,'DejaVu Sans Mono',consolas,'Courier New',monospace\"><span style=\"color: #7fbfbf; text-decoration-color: #7fbfbf\">[16:37:02] </span><span style=\"color: #000080; text-decoration-color: #000080\">INFO    </span> Precompute motions of free_surface_56_mesh before animation.                                   \n",
       "</pre>\n"
      ],
      "text/plain": [
       "\u001b[2;36m[16:37:02]\u001b[0m\u001b[2;36m \u001b[0m\u001b[34mINFO    \u001b[0m Precompute motions of free_surface_56_mesh before animation.                                   \n"
      ]
     },
     "metadata": {},
     "output_type": "display_data"
    }
   ],
   "source": [
    "diffraction_problem = cpt.DiffractionProblem(body=fb, wave_direction=0.0, omega=2.0)\n",
    "diffraction_result = solver.solve(diffraction_problem)\n",
    "\n",
    "radiation_problem = cpt.RadiationProblem(body=fb, radiating_dof=\"Heave\", omega=2.0)\n",
    "radiation_result = solver.solve(radiation_problem)\n",
    "\n",
    "# Define a mesh of the free surface and compute the free surface elevation\n",
    "free_surface = cpt.FreeSurface(x_range=(-50, 50), y_range=(-50, 50), nx=150, ny=150)\n",
    "diffraction_elevation_at_faces = solver.compute_free_surface_elevation(free_surface, diffraction_result)\n",
    "radiation_elevation_at_faces = solver.compute_free_surface_elevation(free_surface, radiation_result)\n",
    "\n",
    "# Add incoming waves\n",
    "diffraction_elevation_at_faces = diffraction_elevation_at_faces + airy_waves_free_surface_elevation(free_surface, diffraction_problem)\n",
    "\n",
    "# Run the animations\n",
    "animation = Animation(loop_duration=diffraction_result.period)\n",
    "animation.add_body(full_fb, faces_motion=None)\n",
    "animation.add_free_surface(free_surface, faces_elevation=0.5*diffraction_elevation_at_faces)\n",
    "animation.run(camera_position=(-30, -30, 30))  # The camera is oriented towards (0, 0, 0) by default.\n",
    "# animation.save(\"path/to/the/video/file.ogv\", camera_position=(-30, -30, 30))\n",
    "\n",
    "animation = Animation(loop_duration=radiation_result.period)\n",
    "animation.add_body(full_fb, faces_motion=full_fb.dofs[\"Heave\"])\n",
    "animation.add_free_surface(free_surface, faces_elevation=3.0*radiation_elevation_at_faces)\n",
    "animation.run(camera_position=(-30, -30, 30))"
   ]
  },
  {
   "cell_type": "code",
   "execution_count": 13,
   "metadata": {},
   "outputs": [
    {
     "name": "stderr",
     "output_type": "stream",
     "text": [
      "INFO:capytaine.ui.vtk.animation:Precompute motions of WaveBot before animation.\n"
     ]
    },
    {
     "data": {
      "text/html": [
       "<pre style=\"white-space:pre;overflow-x:auto;line-height:normal;font-family:Menlo,'DejaVu Sans Mono',consolas,'Courier New',monospace\"><span style=\"color: #7fbfbf; text-decoration-color: #7fbfbf\">[16:37:33] </span><span style=\"color: #000080; text-decoration-color: #000080\">INFO    </span> Precompute motions of WaveBot before animation.                                                \n",
       "</pre>\n"
      ],
      "text/plain": [
       "\u001b[2;36m[16:37:33]\u001b[0m\u001b[2;36m \u001b[0m\u001b[34mINFO    \u001b[0m Precompute motions of WaveBot before animation.                                                \n"
      ]
     },
     "metadata": {},
     "output_type": "display_data"
    },
    {
     "name": "stderr",
     "output_type": "stream",
     "text": [
      "INFO:capytaine.ui.vtk.animation:Precompute motions of free_surface_56_mesh before animation.\n"
     ]
    },
    {
     "data": {
      "text/html": [
       "<pre style=\"white-space:pre;overflow-x:auto;line-height:normal;font-family:Menlo,'DejaVu Sans Mono',consolas,'Courier New',monospace\"><span style=\"color: #7fbfbf; text-decoration-color: #7fbfbf\">[16:37:37] </span><span style=\"color: #000080; text-decoration-color: #000080\">INFO    </span> Precompute motions of free_surface_56_mesh before animation.                                   \n",
       "</pre>\n"
      ],
      "text/plain": [
       "\u001b[2;36m[16:37:37]\u001b[0m\u001b[2;36m \u001b[0m\u001b[34mINFO    \u001b[0m Precompute motions of free_surface_56_mesh before animation.                                   \n"
      ]
     },
     "metadata": {},
     "output_type": "display_data"
    }
   ],
   "source": [
    "#can I combine diffraction and radiation?\n",
    "\n",
    "animation = Animation(loop_duration=radiation_result.period)\n",
    "animation.add_body(full_fb, faces_motion=full_fb.dofs[\"Heave\"])\n",
    "animation.add_free_surface(free_surface, faces_elevation=radiation_elevation_at_faces+diffraction_elevation_at_faces)\n",
    "animation.run(camera_position=(-30, -30, 30))"
   ]
  }
 ],
 "metadata": {
  "kernelspec": {
   "display_name": "wecopttool_dev",
   "language": "python",
   "name": "python3"
  },
  "language_info": {
   "codemirror_mode": {
    "name": "ipython",
    "version": 3
   },
   "file_extension": ".py",
   "mimetype": "text/x-python",
   "name": "python",
   "nbconvert_exporter": "python",
   "pygments_lexer": "ipython3",
   "version": "3.11.7"
  }
 },
 "nbformat": 4,
 "nbformat_minor": 2
}
