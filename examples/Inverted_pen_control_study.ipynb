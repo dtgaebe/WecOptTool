{
 "cells": [
  {
   "cell_type": "code",
   "execution_count": 1,
   "metadata": {},
   "outputs": [],
   "source": [
    "# import capytaine as cpy\n",
    "import autograd.numpy as np\n",
    "import matplotlib.pyplot as plt\n",
    "import xarray as xr\n",
    "# from math import comb\n",
    "\n",
    "import wecopttool as wot\n",
    "import os\n",
    "import Pioneer_Inverted_Pendulum as pip\n",
    "\n",
    "## set colorblind-friendly colormap for plots\n",
    "plt.style.use('tableau-colorblind10')\n",
    "\n",
    "wot.set_loglevel('INFO', capytaine=False)\n",
    "data_path = os.path.join('pioneer_data')"
   ]
  },
  {
   "cell_type": "code",
   "execution_count": 2,
   "metadata": {},
   "outputs": [],
   "source": [
    "wavefreq = 0.325\n",
    "f1_reg = wavefreq\n",
    "nfreq_reg = 5\n",
    "amplitude = 0.15\n",
    "\n",
    "waves_regular = wot.waves.regular_wave(f1_reg, nfreq_reg, wavefreq, amplitude)"
   ]
  },
  {
   "cell_type": "code",
   "execution_count": 3,
   "metadata": {},
   "outputs": [],
   "source": [
    "omega = waves_regular.omega"
   ]
  },
  {
   "cell_type": "code",
   "execution_count": 4,
   "metadata": {},
   "outputs": [],
   "source": [
    "NPIP = pip.NonlinearInvertedPendulumPTO(f1 = f1_reg,\n",
    "                                        nfreq = nfreq_reg,\n",
    "                                        ndof = 1,\n",
    "                                        control_type = 'PI')"
   ]
  },
  {
   "cell_type": "code",
   "execution_count": 5,
   "metadata": {},
   "outputs": [
    {
     "data": {
      "text/plain": [
       "12"
      ]
     },
     "execution_count": 5,
     "metadata": {},
     "output_type": "execute_result"
    }
   ],
   "source": [
    "NPIP.nstate_opt"
   ]
  },
  {
   "cell_type": "code",
   "execution_count": 6,
   "metadata": {},
   "outputs": [
    {
     "data": {
      "text/plain": [
       "{'Generator': <bound method NonlinearInvertedPendulumPTO.torque_from_PTO of <Pioneer_Inverted_Pendulum.NonlinearInvertedPendulumPTO object at 0x0000019154815250>>,\n",
       " 'Friction': <bound method NonlinearInvertedPendulumPTO.nonlinear_torque_from_friction of <Pioneer_Inverted_Pendulum.NonlinearInvertedPendulumPTO object at 0x0000019154815250>>,\n",
       " 'Spring': <bound method NonlinearInvertedPendulumPTO.torque_from_nl_spring of <Pioneer_Inverted_Pendulum.NonlinearInvertedPendulumPTO object at 0x0000019154815250>>,\n",
       " 'Pendulum': <bound method NonlinearInvertedPendulumPTO.torque_from_pendulum of <Pioneer_Inverted_Pendulum.NonlinearInvertedPendulumPTO object at 0x0000019154815250>>}"
      ]
     },
     "execution_count": 6,
     "metadata": {},
     "output_type": "execute_result"
    }
   ],
   "source": [
    "NPIP.f_add"
   ]
  },
  {
   "cell_type": "code",
   "execution_count": 7,
   "metadata": {},
   "outputs": [
    {
     "name": "stdout",
     "output_type": "stream",
     "text": [
      "Found existing BEM file, loading\n"
     ]
    }
   ],
   "source": [
    "wec_bem = pip.PioneerBuoy.from_bem_data(f1_reg, nfreq_reg)\n",
    "wec_emp = pip.PioneerBuoy.from_empirical_data(f1_reg, nfreq_reg, \n",
    "                                            f_add = NPIP.f_add,\n",
    "                                            constraints = NPIP.constraints)"
   ]
  },
  {
   "cell_type": "code",
   "execution_count": 8,
   "metadata": {},
   "outputs": [
    {
     "data": {
      "text/plain": [
       "{'intrinsic_impedance': <function wecopttool.core.force_from_rao_transfer_function.<locals>.force(wec, x_wec, x_opt, waves)>,\n",
       " 'excitation': <function wecopttool.core.force_from_waves.<locals>.force(wec, x_wec, x_opt, waves)>,\n",
       " 'Generator': <bound method NonlinearInvertedPendulumPTO.torque_from_PTO of <Pioneer_Inverted_Pendulum.NonlinearInvertedPendulumPTO object at 0x0000019154815250>>,\n",
       " 'Friction': <bound method NonlinearInvertedPendulumPTO.nonlinear_torque_from_friction of <Pioneer_Inverted_Pendulum.NonlinearInvertedPendulumPTO object at 0x0000019154815250>>,\n",
       " 'Spring': <bound method NonlinearInvertedPendulumPTO.torque_from_nl_spring of <Pioneer_Inverted_Pendulum.NonlinearInvertedPendulumPTO object at 0x0000019154815250>>,\n",
       " 'Pendulum': <bound method NonlinearInvertedPendulumPTO.torque_from_pendulum of <Pioneer_Inverted_Pendulum.NonlinearInvertedPendulumPTO object at 0x0000019154815250>>}"
      ]
     },
     "execution_count": 8,
     "metadata": {},
     "output_type": "execute_result"
    }
   ],
   "source": [
    "wec_emp._forces"
   ]
  },
  {
   "cell_type": "code",
   "execution_count": null,
   "metadata": {},
   "outputs": [],
   "source": []
  },
  {
   "cell_type": "code",
   "execution_count": 9,
   "metadata": {},
   "outputs": [
    {
     "name": "stderr",
     "output_type": "stream",
     "text": [
      "C:\\Users\\dtgaebe\\WecOptTool\\wecopttool\\core.py:756: UserWarning: The `squeeze` kwarg to GroupBy is being removed.Pass .groupby(..., squeeze=False) to disable squeezing, which is the new default, and to silence this warning.\n",
      "  for realization, wave in waves.groupby('realization'):\n",
      "INFO:wecopttool.core:Solving pseudo-spectral control problem for realization number 0.\n",
      "INFO:wecopttool.core:Scaled [max(x_wec), max(x_opt), obj_fun(x)]: [1.20e+00, 1.40e+00, 6.15e+03]\n",
      "INFO:wecopttool.core:Scaled [max(x_wec), max(x_opt), obj_fun(x)]: [1.17e+00, 1.30e+00, 9.98e+03]\n",
      "INFO:wecopttool.core:Scaled [max(x_wec), max(x_opt), obj_fun(x)]: [1.26e+00, 1.06e+00, 4.21e+03]\n",
      "INFO:wecopttool.core:Scaled [max(x_wec), max(x_opt), obj_fun(x)]: [1.19e+00, 5.38e+00, 1.61e+05]\n",
      "INFO:wecopttool.core:Scaled [max(x_wec), max(x_opt), obj_fun(x)]: [1.04e+00, 4.27e+00, 4.10e+04]\n",
      "INFO:wecopttool.core:Scaled [max(x_wec), max(x_opt), obj_fun(x)]: [9.82e-01, 1.03e+01, 3.60e+05]\n",
      "INFO:wecopttool.core:Scaled [max(x_wec), max(x_opt), obj_fun(x)]: [7.13e+00, 3.43e+01, 2.52e+06]\n",
      "INFO:wecopttool.core:Scaled [max(x_wec), max(x_opt), obj_fun(x)]: [1.14e+00, 5.55e+01, 9.73e+03]\n",
      "INFO:wecopttool.core:Scaled [max(x_wec), max(x_opt), obj_fun(x)]: [9.42e-01, 9.18e+00, 5.39e+04]\n",
      "INFO:wecopttool.core:Scaled [max(x_wec), max(x_opt), obj_fun(x)]: [1.35e+00, 4.26e+00, 3.66e+04]\n",
      "INFO:wecopttool.core:Scaled [max(x_wec), max(x_opt), obj_fun(x)]: [1.26e+00, 1.07e+00, 4.51e+03]\n",
      "INFO:wecopttool.core:Scaled [max(x_wec), max(x_opt), obj_fun(x)]: [1.26e+00, 1.07e+00, 4.51e+03]\n",
      "INFO:wecopttool.core:Scaled [max(x_wec), max(x_opt), obj_fun(x)]: [1.25e+00, 1.08e+00, 4.48e+03]\n",
      "INFO:wecopttool.core:Scaled [max(x_wec), max(x_opt), obj_fun(x)]: [1.26e+00, 1.07e+00, 4.51e+03]\n",
      "INFO:wecopttool.core:Scaled [max(x_wec), max(x_opt), obj_fun(x)]: [1.26e+00, 1.07e+00, 4.51e+03]\n",
      "INFO:wecopttool.core:Scaled [max(x_wec), max(x_opt), obj_fun(x)]: [1.26e+00, 1.07e+00, 4.51e+03]\n",
      "INFO:wecopttool.core:Scaled [max(x_wec), max(x_opt), obj_fun(x)]: [1.26e+00, 1.07e+00, 4.49e+03]\n",
      "INFO:wecopttool.core:Scaled [max(x_wec), max(x_opt), obj_fun(x)]: [1.26e+00, 1.07e+00, 4.51e+03]\n",
      "INFO:wecopttool.core:Scaled [max(x_wec), max(x_opt), obj_fun(x)]: [1.26e+00, 1.07e+00, 4.51e+03]\n",
      "INFO:wecopttool.core:Scaled [max(x_wec), max(x_opt), obj_fun(x)]: [1.25e+00, 1.08e+00, 4.48e+03]\n",
      "INFO:wecopttool.core:Scaled [max(x_wec), max(x_opt), obj_fun(x)]: [1.26e+00, 1.07e+00, 4.51e+03]\n",
      "INFO:wecopttool.core:Scaled [max(x_wec), max(x_opt), obj_fun(x)]: [1.26e+00, 1.07e+00, 4.51e+03]\n",
      "INFO:wecopttool.core:Scaled [max(x_wec), max(x_opt), obj_fun(x)]: [1.26e+00, 1.08e+00, 4.49e+03]\n",
      "INFO:wecopttool.core:Scaled [max(x_wec), max(x_opt), obj_fun(x)]: [1.26e+00, 1.07e+00, 4.51e+03]\n",
      "INFO:wecopttool.core:Scaled [max(x_wec), max(x_opt), obj_fun(x)]: [1.26e+00, 1.07e+00, 4.50e+03]\n",
      "INFO:wecopttool.core:Scaled [max(x_wec), max(x_opt), obj_fun(x)]: [1.25e+00, 1.08e+00, 4.47e+03]\n",
      "INFO:wecopttool.core:Scaled [max(x_wec), max(x_opt), obj_fun(x)]: [1.24e+00, 1.14e+00, 4.46e+03]\n",
      "INFO:wecopttool.core:Scaled [max(x_wec), max(x_opt), obj_fun(x)]: [1.19e+00, 1.37e+00, 7.46e+03]\n",
      "INFO:wecopttool.core:Scaled [max(x_wec), max(x_opt), obj_fun(x)]: [4.72e+00, 4.02e+01, 1.70e+07]\n",
      "INFO:wecopttool.core:Scaled [max(x_wec), max(x_opt), obj_fun(x)]: [1.13e+00, 3.69e+01, 1.73e+04]\n",
      "INFO:wecopttool.core:Scaled [max(x_wec), max(x_opt), obj_fun(x)]: [1.12e+00, 2.16e+00, 2.12e+04]\n",
      "INFO:wecopttool.core:Scaled [max(x_wec), max(x_opt), obj_fun(x)]: [1.16e+00, 1.90e+00, 1.66e+04]\n",
      "INFO:wecopttool.core:Scaled [max(x_wec), max(x_opt), obj_fun(x)]: [1.19e+00, 3.26e+00, 1.46e+04]\n",
      "INFO:wecopttool.core:Scaled [max(x_wec), max(x_opt), obj_fun(x)]: [1.23e+00, 9.25e+00, 1.30e+04]\n",
      "INFO:wecopttool.core:Scaled [max(x_wec), max(x_opt), obj_fun(x)]: [1.17e+00, 1.45e+00, 9.56e+03]\n",
      "INFO:wecopttool.core:Scaled [max(x_wec), max(x_opt), obj_fun(x)]: [1.32e+00, 2.62e+00, 4.10e+04]\n",
      "INFO:wecopttool.core:Scaled [max(x_wec), max(x_opt), obj_fun(x)]: [1.91e+00, 4.51e+02, 1.70e+08]\n",
      "INFO:wecopttool.core:Scaled [max(x_wec), max(x_opt), obj_fun(x)]: [1.26e+00, 2.88e+00, 5.19e+04]\n",
      "INFO:wecopttool.core:Scaled [max(x_wec), max(x_opt), obj_fun(x)]: [7.86e-01, 4.97e+00, 1.73e+05]\n",
      "INFO:wecopttool.core:Scaled [max(x_wec), max(x_opt), obj_fun(x)]: [1.19e+00, 4.46e+01, 7.85e+03]\n",
      "INFO:wecopttool.core:Scaled [max(x_wec), max(x_opt), obj_fun(x)]: [1.19e+00, 4.46e+01, 7.85e+03]\n",
      "INFO:wecopttool.core:Scaled [max(x_wec), max(x_opt), obj_fun(x)]: [1.19e+00, 4.46e+01, 7.85e+03]\n",
      "INFO:wecopttool.core:Scaled [max(x_wec), max(x_opt), obj_fun(x)]: [1.19e+00, 4.46e+01, 7.85e+03]\n",
      "INFO:wecopttool.core:Scaled [max(x_wec), max(x_opt), obj_fun(x)]: [1.19e+00, 4.46e+01, 7.85e+03]\n",
      "INFO:wecopttool.core:Scaled [max(x_wec), max(x_opt), obj_fun(x)]: [1.19e+00, 4.46e+01, 7.85e+03]\n",
      "INFO:wecopttool.core:Scaled [max(x_wec), max(x_opt), obj_fun(x)]: [1.19e+00, 4.46e+01, 7.85e+03]\n",
      "INFO:wecopttool.core:Scaled [max(x_wec), max(x_opt), obj_fun(x)]: [1.19e+00, 4.46e+01, 7.85e+03]\n",
      "INFO:wecopttool.core:Scaled [max(x_wec), max(x_opt), obj_fun(x)]: [1.19e+00, 4.46e+01, 7.85e+03]\n"
     ]
    },
    {
     "name": "stdout",
     "output_type": "stream",
     "text": [
      "Positive directional derivative for linesearch    (Exit mode 8)\n",
      "            Current function value: 7850.229322968544\n",
      "            Iterations: 52\n",
      "            Function evaluations: 305\n",
      "            Gradient evaluations: 48\n"
     ]
    },
    {
     "ename": "Exception",
     "evalue": "Positive directional derivative for linesearch    (Exit mode 8)",
     "output_type": "error",
     "traceback": [
      "\u001b[1;31m---------------------------------------------------------------------------\u001b[0m",
      "\u001b[1;31mException\u001b[0m                                 Traceback (most recent call last)",
      "Cell \u001b[1;32mIn[9], line 1\u001b[0m\n\u001b[1;32m----> 1\u001b[0m results \u001b[38;5;241m=\u001b[39m \u001b[43mwec_emp\u001b[49m\u001b[38;5;241;43m.\u001b[39;49m\u001b[43msolve\u001b[49m\u001b[43m(\u001b[49m\n\u001b[0;32m      2\u001b[0m \u001b[43m    \u001b[49m\u001b[43mwaves_regular\u001b[49m\u001b[43m,\u001b[49m\n\u001b[0;32m      3\u001b[0m \u001b[43m    \u001b[49m\u001b[43mobj_fun\u001b[49m\u001b[43m \u001b[49m\u001b[38;5;241;43m=\u001b[39;49m\u001b[43m \u001b[49m\u001b[43mNPIP\u001b[49m\u001b[38;5;241;43m.\u001b[39;49m\u001b[43maverage_electrical_power\u001b[49m\u001b[43m,\u001b[49m\n\u001b[0;32m      4\u001b[0m \u001b[43m    \u001b[49m\u001b[43mnstate_opt\u001b[49m\u001b[43m \u001b[49m\u001b[38;5;241;43m=\u001b[39;49m\u001b[43m \u001b[49m\u001b[43mNPIP\u001b[49m\u001b[38;5;241;43m.\u001b[39;49m\u001b[43mnstate_opt\u001b[49m\u001b[43m,\u001b[49m\n\u001b[0;32m      5\u001b[0m \u001b[43m    \u001b[49m\u001b[43moptim_options\u001b[49m\u001b[38;5;241;43m=\u001b[39;49m\u001b[43m{\u001b[49m\u001b[38;5;124;43m'\u001b[39;49m\u001b[38;5;124;43mmaxiter\u001b[39;49m\u001b[38;5;124;43m'\u001b[39;49m\u001b[43m:\u001b[49m\u001b[43m \u001b[49m\u001b[38;5;241;43m500\u001b[39;49m\u001b[43m}\u001b[49m\u001b[43m,\u001b[49m\n\u001b[0;32m      6\u001b[0m \u001b[43m    \u001b[49m\u001b[38;5;66;43;03m# x_wec_0=x_wec_0, # initialize with result from linear spring case\u001b[39;49;00m\n\u001b[0;32m      7\u001b[0m \u001b[43m    \u001b[49m\u001b[38;5;66;43;03m# x_opt_0=x_opt_0, # initialize with result from linear spring case\u001b[39;49;00m\n\u001b[0;32m      8\u001b[0m \u001b[43m    \u001b[49m\u001b[43mscale_x_wec\u001b[49m\u001b[38;5;241;43m=\u001b[39;49m\u001b[38;5;241;43m1e1\u001b[39;49m\u001b[43m,\u001b[49m\n\u001b[0;32m      9\u001b[0m \u001b[43m    \u001b[49m\u001b[43mscale_x_opt\u001b[49m\u001b[38;5;241;43m=\u001b[39;49m\u001b[43mnp\u001b[49m\u001b[38;5;241;43m.\u001b[39;49m\u001b[43mconcatenate\u001b[49m\u001b[43m(\u001b[49m\u001b[43m(\u001b[49m\u001b[43mnp\u001b[49m\u001b[38;5;241;43m.\u001b[39;49m\u001b[43marray\u001b[49m\u001b[43m(\u001b[49m\u001b[43m[\u001b[49m\u001b[38;5;241;43m1e-1\u001b[39;49m\u001b[43m]\u001b[49m\u001b[43m)\u001b[49m\u001b[38;5;241;43m*\u001b[39;49m\u001b[43mnp\u001b[49m\u001b[38;5;241;43m.\u001b[39;49m\u001b[43mones\u001b[49m\u001b[43m(\u001b[49m\u001b[43mNPIP\u001b[49m\u001b[38;5;241;43m.\u001b[39;49m\u001b[43mnstate_pto\u001b[49m\u001b[43m)\u001b[49m\u001b[43m,\u001b[49m\u001b[43m \u001b[49m\u001b[38;5;241;43m1e-1\u001b[39;49m\u001b[43m \u001b[49m\u001b[38;5;241;43m*\u001b[39;49m\u001b[43m \u001b[49m\u001b[43mnp\u001b[49m\u001b[38;5;241;43m.\u001b[39;49m\u001b[43mones\u001b[49m\u001b[43m(\u001b[49m\u001b[43mNPIP\u001b[49m\u001b[38;5;241;43m.\u001b[39;49m\u001b[43mnstate_pen\u001b[49m\u001b[43m)\u001b[49m\u001b[43m)\u001b[49m\u001b[43m)\u001b[49m\u001b[43m,\u001b[49m\n\u001b[0;32m     10\u001b[0m \u001b[43m    \u001b[49m\u001b[43mscale_obj\u001b[49m\u001b[38;5;241;43m=\u001b[39;49m\u001b[38;5;241;43m1e-2\u001b[39;49m\u001b[43m,\u001b[49m\n\u001b[0;32m     11\u001b[0m \u001b[43m)\u001b[49m\n",
      "File \u001b[1;32m~\\WecOptTool\\wecopttool\\core.py:838\u001b[0m, in \u001b[0;36mWEC.solve\u001b[1;34m(self, waves, obj_fun, nstate_opt, x_wec_0, x_opt_0, scale_x_wec, scale_x_opt, scale_obj, optim_options, use_grad, maximize, bounds_wec, bounds_opt, callback)\u001b[0m\n\u001b[0;32m    836\u001b[0m     _log\u001b[38;5;241m.\u001b[39mwarning(msg)\n\u001b[0;32m    837\u001b[0m \u001b[38;5;28;01melse\u001b[39;00m:\n\u001b[1;32m--> 838\u001b[0m     \u001b[38;5;28;01mraise\u001b[39;00m \u001b[38;5;167;01mException\u001b[39;00m(msg)\n\u001b[0;32m    840\u001b[0m \u001b[38;5;66;03m# unscale\u001b[39;00m\n\u001b[0;32m    841\u001b[0m optim_res\u001b[38;5;241m.\u001b[39mx \u001b[38;5;241m=\u001b[39m optim_res\u001b[38;5;241m.\u001b[39mx \u001b[38;5;241m/\u001b[39m scale\n",
      "\u001b[1;31mException\u001b[0m: Positive directional derivative for linesearch    (Exit mode 8)"
     ]
    }
   ],
   "source": [
    "results = wec_emp.solve(\n",
    "    waves_regular,\n",
    "    obj_fun = NPIP.average_electrical_power,\n",
    "    nstate_opt = NPIP.nstate_opt,\n",
    "    optim_options={'maxiter': 500},\n",
    "    # x_wec_0=x_wec_0, # initialize with result from linear spring case\n",
    "    # x_opt_0=x_opt_0, # initialize with result from linear spring case\n",
    "    scale_x_wec=1e1,\n",
    "    scale_x_opt=np.concatenate((np.array([1e-1])*np.ones(NPIP.nstate_pto), 1e-1 * np.ones(NPIP.nstate_pen))),\n",
    "    scale_obj=1e-2,\n",
    ")"
   ]
  }
 ],
 "metadata": {
  "kernelspec": {
   "display_name": "wecopttool_dev",
   "language": "python",
   "name": "python3"
  },
  "language_info": {
   "codemirror_mode": {
    "name": "ipython",
    "version": 3
   },
   "file_extension": ".py",
   "mimetype": "text/x-python",
   "name": "python",
   "nbconvert_exporter": "python",
   "pygments_lexer": "ipython3",
   "version": "3.11.7"
  }
 },
 "nbformat": 4,
 "nbformat_minor": 2
}
